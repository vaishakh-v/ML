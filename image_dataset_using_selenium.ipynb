{
  "nbformat": 4,
  "nbformat_minor": 0,
  "metadata": {
    "colab": {
      "name": "image dataset using selenium.ipynb",
      "provenance": [],
      "collapsed_sections": [],
      "include_colab_link": true
    },
    "kernelspec": {
      "name": "python3",
      "display_name": "Python 3"
    },
    "language_info": {
      "name": "python"
    }
  },
  "cells": [
    {
      "cell_type": "markdown",
      "metadata": {
        "id": "view-in-github",
        "colab_type": "text"
      },
      "source": [
        "<a href=\"https://colab.research.google.com/github/vaishakh-v/ML/blob/main/image_dataset_using_selenium.ipynb\" target=\"_parent\"><img src=\"https://colab.research.google.com/assets/colab-badge.svg\" alt=\"Open In Colab\"/></a>"
      ]
    },
    {
      "cell_type": "code",
      "metadata": {
        "id": "va2-4_PZgaff"
      },
      "source": [
        "import time\n",
        "import pandas as pd\n",
        "from PIL import Image\n",
        "from io import BytesIO\n",
        "from selenium import webdriver\n",
        "import urllib.request\n",
        "import requests\n",
        "import sys\n",
        "\n",
        "!pip install selenium\n",
        "!apt-get update \n",
        "!apt install chromium-chromedriver\n",
        "!cp /usr/lib/chromium-browser/chromedriver /usr/bin\n",
        "\n",
        "sys.path.insert(0,'/usr/lib/chromium-browser/chromedriver')\n",
        "\n",
        "chrome_options = webdriver.ChromeOptions()\n",
        "chrome_options.add_argument('--headless')\n",
        "chrome_options.add_argument('--no-sandbox')\n",
        "chrome_options.add_argument('--disable-dev-shm-usage')\n",
        "wd = webdriver.Chrome('chromedriver',chrome_options=chrome_options)\n",
        "\n",
        "\n",
        "\n",
        "\n",
        "def fetch_image_urls(query: str, max_links_to_fetch: int, wd: webdriver, sleep_between_interactions: int = 1):\n",
        "    def scroll_to_end(wd):\n",
        "        wd.execute_script(\"window.scrollTo(0, document.body.scrollHeight);\")\n",
        "        time.sleep(sleep_between_interactions)\n",
        "\n",
        "    search_url = \"https://www.google.com/search?safe=off&site=&tbm=isch&source=hp&q={q}&oq={q}&gs_l=img\"\n",
        "    wd.get(search_url.format(q=query))\n",
        "    print('search_url')\n",
        "    image_urls = set()\n",
        "    image_count = 0\n",
        "    results_start = 0\n",
        "    while image_count < max_links_to_fetch:\n",
        "        scroll_to_end(wd)\n",
        "        thumbnail_results = wd.find_elements_by_css_selector(\"img.Q4LuWd\")\n",
        "        number_results = len(thumbnail_results)\n",
        "        print(f\"Found: {number_results} search results. Extracting links from {results_start}:{number_results}\")\n",
        "        for img in thumbnail_results[results_start:number_results]:\n",
        "            try:\n",
        "                img.click()\n",
        "                time.sleep(sleep_between_interactions)\n",
        "            except Exception:\n",
        "                continue\n",
        "            actual_images = wd.find_elements_by_css_selector('img.n3VNCb')\n",
        "            for actual_image in actual_images:\n",
        "                if actual_image.get_attribute('src') and 'http' in actual_image.get_attribute('src'):\n",
        "                    if (actual_image.get_attribute('src')[:5]=='https'):\n",
        "                      image_urls.add(actual_image.get_attribute('src'))\n",
        "                      print(image_urls)\n",
        "            image_count = len(image_urls)\n",
        "            if len(image_urls) >= max_links_to_fetch:\n",
        "                print(f\"Found: {len(image_urls)} image links, done!\")\n",
        "                break\n",
        "        else:\n",
        "            print(\"Found:\", len(image_urls), \"image links, looking for more ...\")\n",
        "            time.sleep(30)\n",
        "            return\n",
        "            load_more_button = wd.find_element_by_css_selector(\".mye4qd\")\n",
        "            if load_more_button:\n",
        "                wd.execute_script(\"document.querySelector('.mye4qd').click();\")\n",
        "        results_start = len(thumbnail_results)\n",
        "    return image_urls\n",
        "\n",
        "print(\"Starting scrape from the given query files \")\n",
        "print('df.index')\n",
        "df = pd.read_csv('query.csv')\n",
        "for ind in df.index:\n",
        "    q = df['keyword'][ind]\n",
        "    print(\"Selected keyword \" + q)\n",
        "    n = df['no'][ind]\n",
        "    print(\"Number of pictures downloading for the keyword \"+str(n))\n",
        "    images = fetch_image_urls(q,n,wd)\n",
        "    print(\"Image URLS fetched for the keyword\")\n",
        "    i = 0\n",
        "    x = df['pwidth'][ind]\n",
        "    y = df['pheight'][ind]\n",
        "    print(\"The resolution of the images (\"+ str(x)+\",\"+str(y)+\")\")\n",
        "    for url in images:\n",
        "      i = i+1\n",
        "      response = requests.get(url)\n",
        "      try: \n",
        "        img = Image.open(BytesIO(response.content))\n",
        "        newsize = (x,y)\n",
        "        img = img.resize(newsize)\n",
        "        if img.mode != 'RGB':\n",
        "          img = img.convert('RGB')\n",
        "        img.save('MG'+q+\"_\"+str(i)+\".jpeg\",\"JPEG\")\n",
        "        print(\"DONE\"+str(i))\n",
        "      except: \n",
        "        url=url[i+5]\n",
        "    print(\"Download Complete for keyword\")"
      ],
      "execution_count": null,
      "outputs": []
    },
    {
      "cell_type": "code",
      "metadata": {
        "id": "vXeaCw3H3yrP"
      },
      "source": [
        "! zip MGJackfruit.zip *.jpeg"
      ],
      "execution_count": null,
      "outputs": []
    },
    {
      "cell_type": "markdown",
      "metadata": {
        "id": "p1u4Sznvx9Kn"
      },
      "source": [
        "**Rename and Resize file from Drive**"
      ]
    },
    {
      "cell_type": "code",
      "metadata": {
        "colab": {
          "base_uri": "https://localhost:8080/"
        },
        "id": "FGhyiXTHT3bu",
        "outputId": "e3c7cd56-b727-4713-8bdc-a0a2d17d9426"
      },
      "source": [
        "from google.colab import drive\n",
        "drive.mount('/content/drive')"
      ],
      "execution_count": null,
      "outputs": [
        {
          "output_type": "stream",
          "text": [
            "Mounted at /content/drive\n"
          ],
          "name": "stdout"
        }
      ]
    },
    {
      "cell_type": "code",
      "metadata": {
        "id": "TXjPfJxFRd46"
      },
      "source": [
        "import os\n",
        "os.getcwd()\n",
        "collection = \"/content/drive/MyDrive/ML-ChakGo_Scan/New_images/Chakka/\"\n",
        "for i, filename in enumerate(os.listdir(collection)):\n",
        "    os.rename(\"/content/drive/MyDrive/ML-ChakGo_Scan/New_images/Chakka/\" + filename, \"/content/drive/MyDrive/ML-ChakGo_Scan/New_images/Chakka/\" + str(101+i) + \".jpg\")"
      ],
      "execution_count": null,
      "outputs": []
    },
    {
      "cell_type": "code",
      "metadata": {
        "colab": {
          "base_uri": "https://localhost:8080/"
        },
        "id": "a8eHhYFWXX1T",
        "outputId": "a395fbde-565b-4fd8-b126-58585d7a3280"
      },
      "source": [
        "from PIL import Image\n",
        "for i in range (0,15):\n",
        "  img = Image.open('/content/drive/MyDrive/ML-ChakGo_Scan/New_images/Chakka/'+str(101+i)+'.jpg')\n",
        "  print(img.size)\n",
        "  newsize = (224,224)\n",
        "  img = img.resize(newsize)\n",
        "  print(img.size)\n",
        "  if img.mode != 'RGB':\n",
        "    img = img.convert('RGB')\n",
        "  img.save('JF'+str(i)+\".jpg\",\"JPEG\")\n"
      ],
      "execution_count": null,
      "outputs": [
        {
          "output_type": "stream",
          "text": [
            "(4160, 1952)\n",
            "(224, 224)\n",
            "(4160, 1952)\n",
            "(224, 224)\n",
            "(1952, 4160)\n",
            "(224, 224)\n",
            "(4160, 1952)\n",
            "(224, 224)\n",
            "(4160, 1952)\n",
            "(224, 224)\n",
            "(1952, 4160)\n",
            "(224, 224)\n",
            "(4160, 1952)\n",
            "(224, 224)\n",
            "(1952, 4160)\n",
            "(224, 224)\n",
            "(4160, 1952)\n",
            "(224, 224)\n",
            "(1280, 909)\n",
            "(224, 224)\n",
            "(1040, 488)\n",
            "(224, 224)\n",
            "(1040, 488)\n",
            "(224, 224)\n",
            "(488, 1040)\n",
            "(224, 224)\n",
            "(1040, 488)\n",
            "(224, 224)\n",
            "(1040, 488)\n",
            "(224, 224)\n"
          ],
          "name": "stdout"
        }
      ]
    },
    {
      "cell_type": "code",
      "metadata": {
        "colab": {
          "base_uri": "https://localhost:8080/"
        },
        "id": "txGXq9PlZgCF",
        "outputId": "4011e171-9d41-46c4-8ded-81ee50401b63"
      },
      "source": [
        "!zip Chakka4.zip *.jpg"
      ],
      "execution_count": null,
      "outputs": [
        {
          "output_type": "stream",
          "text": [
            "  adding: JF0.jpg (deflated 2%)\n",
            "  adding: JF10.jpg (deflated 1%)\n",
            "  adding: JF11.jpg (deflated 1%)\n",
            "  adding: JF12.jpg (deflated 1%)\n",
            "  adding: JF13.jpg (deflated 1%)\n",
            "  adding: JF14.jpg (deflated 1%)\n",
            "  adding: JF15.jpg (deflated 6%)\n",
            "  adding: JF16.jpg (deflated 1%)\n",
            "  adding: JF1.jpg (deflated 1%)\n",
            "  adding: JF2.jpg (deflated 2%)\n",
            "  adding: JF3.jpg (deflated 1%)\n",
            "  adding: JF4.jpg (deflated 1%)\n",
            "  adding: JF5.jpg (deflated 2%)\n",
            "  adding: JF6.jpg (deflated 2%)\n",
            "  adding: JF7.jpg (deflated 1%)\n",
            "  adding: JF8.jpg (deflated 2%)\n",
            "  adding: JF9.jpg (deflated 1%)\n"
          ],
          "name": "stdout"
        }
      ]
    }
  ]
}